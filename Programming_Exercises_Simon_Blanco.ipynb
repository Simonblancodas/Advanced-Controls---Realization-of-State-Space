{
  "nbformat": 4,
  "nbformat_minor": 0,
  "metadata": {
    "colab": {
      "provenance": [],
      "authorship_tag": "ABX9TyONYMXFAsGQscTq9MP3KaR3",
      "include_colab_link": true
    },
    "kernelspec": {
      "name": "python3",
      "display_name": "Python 3"
    },
    "language_info": {
      "name": "python"
    }
  },
  "cells": [
    {
      "cell_type": "markdown",
      "metadata": {
        "id": "view-in-github",
        "colab_type": "text"
      },
      "source": [
        "<a href=\"https://colab.research.google.com/github/Simonblancodas/Advanced-Controls---Realization-of-State-Space/blob/main/Programming_Exercises_Simon_Blanco.ipynb\" target=\"_parent\"><img src=\"https://colab.research.google.com/assets/colab-badge.svg\" alt=\"Open In Colab\"/></a>"
      ]
    },
    {
      "cell_type": "markdown",
      "source": [
        "# 1- Indices of Two Numbers Sum\n",
        "\n",
        " Given a list of integers, return indices of the two numbers such that \n",
        "the numbers corresponding to the indices sum up to a specific target\n",
        "* You may assume that each input would have exactly one solution, and \n",
        "you may not use the same list element twice\n",
        "* Example\n",
        " * Given L = [10,20,30,55,50,60], \n",
        " * target = 110\n",
        " * L[4] + L[5] = 50 + 60 = 110, this can be a correct answer\n",
        " * L[4] + L[4] = 55 + 55 = 110 but it cannot be a correct answer\n",
        " * return indices 4, 5"
      ],
      "metadata": {
        "id": "NoB39fDmLHQQ"
      }
    },
    {
      "cell_type": "code",
      "source": [
        "l1 = [9, 10, 84, 67, 22, 15, 6, 53, 2]\n",
        "l2 = [10, 20, 30, 40, 50, 60, 70, 80, 90]"
      ],
      "metadata": {
        "id": "Z3OFBbyJLt4h"
      },
      "execution_count": null,
      "outputs": []
    },
    {
      "cell_type": "code",
      "source": [
        "def targetIndex( target, L):\n",
        "  for i in L:\n",
        "    if (target - i) < 0:\n",
        "      pass\n",
        "    elif (target - i) in L:\n",
        "      return L.index(i), L.index((target - i))\n",
        "  return \"target not possible\"\n",
        "\n",
        "    # The time complexity of this algorithm is: O(n)\n",
        "  # The space complexity of this algorithm is: O(1)\n"
      ],
      "metadata": {
        "id": "Ha68_enEMRTX"
      },
      "execution_count": null,
      "outputs": []
    },
    {
      "cell_type": "code",
      "source": [
        "targetIndex(12 , l1)"
      ],
      "metadata": {
        "colab": {
          "base_uri": "https://localhost:8080/"
        },
        "id": "rB8MR8vzQk-z",
        "outputId": "b0712fe0-4663-43d0-e573-cc287f18f85f"
      },
      "execution_count": null,
      "outputs": [
        {
          "output_type": "execute_result",
          "data": {
            "text/plain": [
              "(1, 8)"
            ]
          },
          "metadata": {},
          "execution_count": 37
        }
      ]
    },
    {
      "cell_type": "code",
      "source": [
        "targetIndex(70, l2)"
      ],
      "metadata": {
        "colab": {
          "base_uri": "https://localhost:8080/"
        },
        "id": "KLsCfyoeRtgc",
        "outputId": "0bbf88a1-07f2-423a-c33e-553d876c7a8e"
      },
      "execution_count": null,
      "outputs": [
        {
          "output_type": "execute_result",
          "data": {
            "text/plain": [
              "(0, 5)"
            ]
          },
          "metadata": {},
          "execution_count": 38
        }
      ]
    },
    {
      "cell_type": "code",
      "execution_count": null,
      "metadata": {
        "id": "fe1EPt4RC-hD"
      },
      "outputs": [],
      "source": [
        "def twoSum(L, target):\n",
        "  available = {} # L[i]:i\n",
        "  for i in range(len(L)):\n",
        "    diff = target - L[i] # O(L) = O(n) the complexity of each for loop is O(n)\n",
        "    if diff in available:\n",
        "      return [available[diff], i]\n",
        "    else:\n",
        "      available[L[i]] = i\n",
        "  return False\n",
        "\n",
        "  # The time complexity of this algorithm is: O(n)\n",
        "  # The space complexity of this algorithm is: O(n)"
      ]
    },
    {
      "cell_type": "code",
      "source": [
        "L = [10, 20, 30, 40, 50, 60]\n",
        "target = 110"
      ],
      "metadata": {
        "id": "Hv6GDkOSDLgT"
      },
      "execution_count": null,
      "outputs": []
    },
    {
      "cell_type": "code",
      "source": [
        "twoSum(L, target)"
      ],
      "metadata": {
        "colab": {
          "base_uri": "https://localhost:8080/"
        },
        "id": "6zljEGRKDUv2",
        "outputId": "e7d37c05-b2f9-49dc-b522-a651e93f9c08"
      },
      "execution_count": null,
      "outputs": [
        {
          "output_type": "execute_result",
          "data": {
            "text/plain": [
              "[4, 5]"
            ]
          },
          "metadata": {},
          "execution_count": 9
        }
      ]
    },
    {
      "cell_type": "code",
      "source": [
        "def twoSum2(L, target):\n",
        "  for i in range(0, len(L)): # O(L) = O(n)\n",
        "    for j in range(i+1, len(L)): # O(L) = O(n)\n",
        "      if L[i] + L[j] == target:\n",
        "        return i, j\n",
        "  return False\n",
        "\n",
        "# Time complexity hence is O(n^2)\n",
        "# The space complexity of this algorithm is: O(1)"
      ],
      "metadata": {
        "id": "8zkn2YmPDZrm"
      },
      "execution_count": null,
      "outputs": []
    },
    {
      "cell_type": "markdown",
      "source": [
        "# 2- Median of Two Sorted Lists\n",
        "\n",
        "* There are two sorted lists List1 and List2 of size m and\n",
        "n respectively.\n",
        "* Find the median of these two sorted lists, combined.\n",
        "* You may assume List1 and List2 cannot be empty lists.\n",
        "\n",
        "* Example 1:\n",
        " * List1 = [1,2,3]\n",
        " * List2 = [4,5,6]\n",
        " * The median is (3 + 4)/2 = 3.5\n",
        "* Example 2:\n",
        " * List1 = [5,6]\n",
        " * List2 = [1,2,3]\n",
        " * The median is 3\n",
        "* Example 3:\n",
        " * List1 = [1,2,3,4,5,6]\n",
        " * List2 = [5,6,7]\n",
        " * The median is 5"
      ],
      "metadata": {
        "id": "UjBEVka5R0ID"
      }
    },
    {
      "cell_type": "code",
      "source": [
        "def medianOfsorted(l1,l2):\n",
        "  l1.extend(l2)\n",
        "  l1.sort()\n",
        "  if len(l1)%2 == 0:\n",
        "    return (l1[int(len(l1)/2-1)] + l1[int(len(l1)/2)])/2\n",
        "  else:\n",
        "    return l1[int(len(l1)/2)]\n",
        "    \n",
        "\n",
        "# Time complexity = O(n) same as the sorting of the merged list\n",
        "# The space complexity = O(1) no variables are created"
      ],
      "metadata": {
        "id": "aBP5QEiidtEh"
      },
      "execution_count": null,
      "outputs": []
    },
    {
      "cell_type": "code",
      "source": [
        "l1 =[1,2,3]\n",
        "l2 = [4,5,6]\n",
        "l3 = [5,6]\n",
        "l4 = [1,2,3]\n",
        "l5 = [1,2,3,4,5,6]\n",
        "l6 = [5,6,7]"
      ],
      "metadata": {
        "id": "FplbUO89jXIg"
      },
      "execution_count": null,
      "outputs": []
    },
    {
      "cell_type": "code",
      "source": [
        "print(medianOfsorted(l1,l2))\n",
        "print(medianOfsorted(l3,l4))\n",
        "print(medianOfsorted(l5,l6))"
      ],
      "metadata": {
        "colab": {
          "base_uri": "https://localhost:8080/"
        },
        "id": "OuoxCmxGjTRz",
        "outputId": "5993bd7f-9c2f-46d9-9ac5-8c7a95a0d5d0"
      },
      "execution_count": null,
      "outputs": [
        {
          "output_type": "stream",
          "name": "stdout",
          "text": [
            "3.5\n",
            "3\n",
            "5\n"
          ]
        }
      ]
    },
    {
      "cell_type": "markdown",
      "source": [
        "# 3- Recursive Function\n",
        "\n",
        "Write a recursive function to find a Fibonacci number\n",
        "* Fibonacci number\n",
        " * https://en.wikipedia.org/wiki/Fibonacci_number\n",
        " * Fibonacci numbers, commonly denoted F n , form a sequence , called the Fibonacci sequence , such that each number is the sum of the two preceding ones, starting from 0 and 1\n",
        " * For n > 1, 0,1,1,2,3,5,8,13,21,34…\n",
        " * 𝑓𝑛= 𝑓𝑛−1+𝑓𝑛−2; 𝑓0= 0, 𝑓1= 1\n",
        "* What is\n",
        "* 𝑓10=?\n",
        "* 𝑓20=?"
      ],
      "metadata": {
        "id": "p2N6cm-ElihX"
      }
    },
    {
      "cell_type": "code",
      "source": [
        "def Fibonacci(num):\n",
        "  if num <= 1:\n",
        "    return 1\n",
        "  else:\n",
        "   return num+Fibonacci(num-1)"
      ],
      "metadata": {
        "id": "S9vAAEeimHCR"
      },
      "execution_count": null,
      "outputs": []
    },
    {
      "cell_type": "code",
      "source": [
        "print(Fibonacci(5))\n",
        "print(5+4+3+2+1)"
      ],
      "metadata": {
        "colab": {
          "base_uri": "https://localhost:8080/"
        },
        "id": "ZJjls2yeoCFa",
        "outputId": "51160981-8eed-4797-b25e-0074d5874861"
      },
      "execution_count": null,
      "outputs": [
        {
          "output_type": "stream",
          "name": "stdout",
          "text": [
            "15\n",
            "15\n"
          ]
        }
      ]
    },
    {
      "cell_type": "markdown",
      "source": [
        "# 4- Palindrome\n",
        "* Given a string s, write a program to check if the string is a palindrome or not\n",
        "\n",
        " * A palindrome is a word, number, phrase, or other sequence of symbols that reads the same backwards as forwards, such as madam or racecar, the date and time 12/21/33 12:21, and the sentence: \"A man, a plan, a canal – Panama\".\n",
        " * https://en.wikipedia.org/wiki/Palindrome\n",
        "\n",
        "* Example 1:\n",
        " * s: racecar\n",
        " * return True\n",
        "* Example 2:\n",
        " * s: noon\n",
        " * return True\n",
        "* Example 3:\n",
        " * s: good\n",
        " * return False"
      ],
      "metadata": {
        "id": "pBoAhdE_oV8M"
      }
    },
    {
      "cell_type": "code",
      "source": [
        "def palindromeCheck(string):\n",
        "  ns = string\n",
        "  ns = ns.lower() # make all letters lower case\n",
        "  ns = ns.replace(' ','') # remove all spaces in case it's a phrase\n",
        "  ns = ns.replace('/', '') # remove separators and special characters\n",
        "  ns = ns.replace(':', '')\n",
        "  ns = ns.replace('-', '')\n",
        "  ns = ns.replace(',', '')\n",
        "  ns = ns.replace('–', '')\n",
        "  ns_copy = ns\n",
        "  if len(ns_copy)%2 == 0:\n",
        "    ns = ns[len(ns)//2:]\n",
        "    ns_inv = ns[::-1]\n",
        "    return ns_inv+ns == ns_copy\n",
        "  else:\n",
        "    ns = ns[len(ns_copy)//2+1:]\n",
        "    ns_inv = ns[::-1]\n",
        "    return ns_inv+ns_copy[len(ns_copy)//2]+ns == ns_copy"
      ],
      "metadata": {
        "id": "RVvCA8CtpOYl"
      },
      "execution_count": null,
      "outputs": []
    },
    {
      "cell_type": "code",
      "source": [
        "palindromeCheck('A man, a plan, a canal – Panama')"
      ],
      "metadata": {
        "colab": {
          "base_uri": "https://localhost:8080/"
        },
        "id": "Mgt3b3rZucf4",
        "outputId": "31ca93ea-72d4-4b3b-8b5f-09032d783fdb"
      },
      "execution_count": null,
      "outputs": [
        {
          "output_type": "execute_result",
          "data": {
            "text/plain": [
              "True"
            ]
          },
          "metadata": {},
          "execution_count": 8
        }
      ]
    },
    {
      "cell_type": "markdown",
      "source": [
        "# 5- Longest Palindromic Substring ( EN 505 Students Only)\n",
        "* Given a string s, find the longest palindromic substring in s. You may assume that the maximum length of s greater than 10\n",
        "* Example 1:\n",
        " * s: \"ab cdc cefec\" \n",
        " * return substring: “cefec\"\n",
        "* Example 2:\n",
        " * s: “longestsegnol\"\n",
        " * return substring: “ongestsegno\""
      ],
      "metadata": {
        "id": "GQ5X-uij2Eat"
      }
    },
    {
      "cell_type": "code",
      "source": [
        "s = 'longestsegnol'\n",
        "print(s[1:len(s)-1])"
      ],
      "metadata": {
        "colab": {
          "base_uri": "https://localhost:8080/"
        },
        "id": "8ERwnj3sS5_5",
        "outputId": "5206105b-2783-4225-a76a-751d8e0a3f9f"
      },
      "execution_count": null,
      "outputs": [
        {
          "output_type": "stream",
          "name": "stdout",
          "text": [
            "ongestsegno\n"
          ]
        }
      ]
    },
    {
      "cell_type": "code",
      "source": [
        "def longestPalsubstring(s):\n",
        "  if len(s) <= 3:\n",
        "    return 'there are no palindromic substrings'\n",
        "  substring = s[1:len(s)-1]\n",
        "  if palindromeCheck(s):\n",
        "    return s[1:len(s)-1]\n",
        "  elif palindromeCheck(substring):\n",
        "    return substring\n",
        "  else:\n",
        "    return longestPalsubstring(substring)"
      ],
      "metadata": {
        "id": "z43-1oOV2DyZ"
      },
      "execution_count": null,
      "outputs": []
    },
    {
      "cell_type": "code",
      "source": [
        "longestPalsubstring('longestsegnol')"
      ],
      "metadata": {
        "colab": {
          "base_uri": "https://localhost:8080/",
          "height": 35
        },
        "id": "UCuOry1aWOOD",
        "outputId": "c30475fd-24da-4b1a-b569-9ca6cb0a96bd"
      },
      "execution_count": null,
      "outputs": [
        {
          "output_type": "execute_result",
          "data": {
            "text/plain": [
              "'ongestsegno'"
            ],
            "application/vnd.google.colaboratory.intrinsic+json": {
              "type": "string"
            }
          },
          "metadata": {},
          "execution_count": 26
        }
      ]
    },
    {
      "cell_type": "code",
      "source": [
        "def selectionSort(L):\n",
        "  sufx_start = 0\n",
        "  while sufx_start < len(L): # O(L) = O(n)\n",
        "    for i in range(sufx_start, len(L)): # O(L) = O(n)\n",
        "      if L[i] < L[sufx_start]:\n",
        "        L[sufx_start],L[i] = L[i], L[sufx_start]\n",
        "    sufx_start += 1\n",
        "  return L\n",
        "\n",
        "  # Time Complexity: O(n^2) two loops depending on n\n",
        "  # Space Complexity: O(n) one variable sized depending on n"
      ],
      "metadata": {
        "id": "bkjMA547OZUg"
      },
      "execution_count": null,
      "outputs": []
    },
    {
      "cell_type": "code",
      "source": [],
      "metadata": {
        "id": "W-ffbz4TY5O0"
      },
      "execution_count": null,
      "outputs": []
    }
  ]
}